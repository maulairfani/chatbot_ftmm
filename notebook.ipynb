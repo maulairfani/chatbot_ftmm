{
 "cells": [
  {
   "cell_type": "markdown",
   "metadata": {},
   "source": [
    "CHATBOT FTMM"
   ]
  },
  {
   "cell_type": "code",
   "execution_count": 6,
   "metadata": {},
   "outputs": [],
   "source": [
    "import json\n",
    "from langchain.document_loaders import TextLoader, DirectoryLoader\n",
    "from langchain.text_splitter import TokenTextSplitter\n",
    "from langchain.vectorstores import Chroma\n",
    "from langchain.embeddings import OpenAIEmbeddings\n",
    "from langchain.chat_models import ChatOpenAI\n",
    "from langchain.prompts import (\n",
    "    ChatPromptTemplate,\n",
    "    SystemMessagePromptTemplate,\n",
    "    HumanMessagePromptTemplate,\n",
    "    MessagesPlaceholder\n",
    ")\n",
    "from langchain.memory import ConversationBufferWindowMemory\n",
    "import os\n",
    "from tqdm import tqdm\n",
    "import chromadb"
   ]
  },
  {
   "cell_type": "code",
   "execution_count": 2,
   "metadata": {},
   "outputs": [],
   "source": [
    "loader = DirectoryLoader(\"knowledges\")\n",
    "docs = loader.load()"
   ]
  },
  {
   "cell_type": "code",
   "execution_count": 21,
   "metadata": {},
   "outputs": [],
   "source": [
    "client = chromadb.PersistentClient(path=\"database\")\n",
    "collection_ftmm = client.get_or_create_collection(name=\"ftmm\")"
   ]
  },
  {
   "cell_type": "code",
   "execution_count": 4,
   "metadata": {},
   "outputs": [
    {
     "data": {
      "text/plain": [
       "True"
      ]
     },
     "execution_count": 4,
     "metadata": {},
     "output_type": "execute_result"
    }
   ],
   "source": [
    "# client.reset()"
   ]
  },
  {
   "cell_type": "code",
   "execution_count": 7,
   "metadata": {},
   "outputs": [],
   "source": [
    "# Split into chunks\n",
    "text_splitter = TokenTextSplitter(\n",
    "    chunk_size = 1000,\n",
    "    chunk_overlap  = 200\n",
    ")\n",
    "\n",
    "chunks = text_splitter.split_documents(docs)"
   ]
  },
  {
   "cell_type": "code",
   "execution_count": 17,
   "metadata": {},
   "outputs": [],
   "source": [
    "metadata = [chunks[i].metadata for i in range(len(chunks))]\n",
    "documents = [chunks[i].page_content for i in range(len(chunks))]\n",
    "ids = [f\"doc{i}\" for i in range(len(chunks))]"
   ]
  },
  {
   "cell_type": "code",
   "execution_count": 18,
   "metadata": {},
   "outputs": [],
   "source": [
    "embed = OpenAIEmbeddings()\n",
    "embeddings = embed.embed_documents(documents)"
   ]
  },
  {
   "cell_type": "code",
   "execution_count": 25,
   "metadata": {},
   "outputs": [],
   "source": [
    "status = collection_ftmm.add(\n",
    "    ids=ids,\n",
    "    documents=[c.page_content for c in chunks],\n",
    "    embeddings=embeddings,\n",
    "    metadatas=metadata\n",
    ")"
   ]
  },
  {
   "cell_type": "code",
   "execution_count": 26,
   "metadata": {},
   "outputs": [
    {
     "data": {
      "text/plain": [
       "218"
      ]
     },
     "execution_count": 26,
     "metadata": {},
     "output_type": "execute_result"
    }
   ],
   "source": [
    "docsearch = Chroma(persist_directory=\"database\", embedding_function=embed, collection_name=\"ftmm\")\n",
    "docsearch._collection.count()"
   ]
  },
  {
   "cell_type": "code",
   "execution_count": 135,
   "metadata": {},
   "outputs": [],
   "source": [
    "# LLM\n",
    "chat_model = ChatOpenAI()\n",
    "\n",
    "# Template prompt\n",
    "template = \"\"\"Jawablah pertanyaan di bawah ini berdasarkan konteks yang diberikan! \\\n",
    "Jika dalam pertanyaan merujuk ke histori chat sebelumnya, maka gunakan konteks dari pertanyaan \\\n",
    "sebelumnya untuk menjawab!\n",
    "Konteks:\n",
    "{context}\n",
    "\n",
    "Pertanyaan:\n",
    "{question}\n",
    "\"\"\"\n",
    "\n",
    "template_system = \"\"\"Namamu adalah Iris, sebuah chatbot Fakultas Teknologi Maju dan \\\n",
    "Multidisiplin (FTMM), Universitas Airlangga. Kamu siap menjawab pertanyaan apapun \\\n",
    "seputar FTMM. Kamu menjawab setiap pertanyaan dengan ceria, sopan, dan asik!\n",
    "\"\"\"\n",
    "\n",
    "# Prompt\n",
    "prompt = ChatPromptTemplate(\n",
    "    messages=[\n",
    "        SystemMessagePromptTemplate.from_template(template_system),\n",
    "        MessagesPlaceholder(variable_name=\"chat_history\"),\n",
    "        HumanMessagePromptTemplate.from_template(template),\n",
    "    ]\n",
    ")\n",
    "\n",
    "# Memory\n",
    "memory = ConversationBufferWindowMemory(memory_key=\"chat_history\", return_messages=True, k=1)"
   ]
  },
  {
   "cell_type": "code",
   "execution_count": 136,
   "metadata": {},
   "outputs": [],
   "source": [
    "chain = prompt | chat_model"
   ]
  },
  {
   "cell_type": "code",
   "execution_count": 143,
   "metadata": {},
   "outputs": [
    {
     "data": {
      "text/plain": [
       "AIMessage(content='Fakultas Teknologi Maju dan Multidisiplin (FTMM) didirikan pada bulan November 2019 dengan nama awal \"Sekolah Teknologi Maju dan Multidisiplin\". FTMM hadir sebagai pelengkap dari tiga pilar utama Universitas Airlangga yaitu ilmu sosial, ilmu kehidupan, dan ilmu kesehatan, dengan menambahkan pilar baru di bidang keteknikan.\\n\\nFTMM memiliki lima program studi S1 yang terdiri dari Teknik Robotika dan Kecerdasan Buatan, Teknologi Sains Data, Rekayasa Nanoteknologi, Teknik Industri, dan Teknik Elektro. Pada tahun pertama, jumlah mahasiswa FTMM sekitar 400 orang.\\n\\nSebagai fakultas baru, FT')"
      ]
     },
     "execution_count": 143,
     "metadata": {},
     "output_type": "execute_result"
    }
   ],
   "source": [
    "question = \"ceritakan sejarah FTMM!\"\n",
    "contexts = docsearch.similarity_search(question, k=3)\n",
    "response = chain.invoke({\"context\": contexts, \"question\": question, \"chat_history\": memory.buffer_as_messages})\n",
    "\n",
    "# Add response to memory\n",
    "memory.save_context({\"input\": template.format(context=contexts, question=question)}, \n",
    "                    {\"output\": response.content})\n",
    "response"
   ]
  },
  {
   "cell_type": "code",
   "execution_count": 12,
   "metadata": {},
   "outputs": [],
   "source": [
    "from langchain.vectorstores import Chroma\n",
    "from langchain_google_genai.embeddings import GoogleGenerativeAIEmbeddings\n",
    "import google.generativeai as genai\n",
    "import streamlit as st\n",
    "genai.configure(api_key=st.secrets[\"google_api_key\"])\n",
    "\n",
    "def embed_fn(text):\n",
    "    embeddings = genai.embed_content(model=\"models/embedding-001\",\n",
    "                                    content=text,\n",
    "                                    task_type=\"retrieval_document\")[\"embedding\"]\n",
    "    return embeddings\n",
    "docsearch = Chroma(persist_directory=\"knowledge_ftmm\", collection_name=\"gemini_ftmm\")"
   ]
  },
  {
   "cell_type": "code",
   "execution_count": 6,
   "metadata": {},
   "outputs": [],
   "source": [
    "text = \"Halo\"\n",
    "embeddings = embed_fn(text)"
   ]
  },
  {
   "cell_type": "code",
   "execution_count": 13,
   "metadata": {},
   "outputs": [
    {
     "name": "stderr",
     "output_type": "stream",
     "text": [
      "Number of requested results 4 is greater than number of elements in index 1, updating n_results = 1\n"
     ]
    },
    {
     "data": {
      "text/plain": [
       "[Document(page_content='Identitas Fakultas Teknologi Maju dan Multidisiplin Bendera Warna biru \\xa0prusia \\xa0(prussian \\xa0blue) \\xa0melambangkan\\xa0 FTMM \\xa0sebagai \\xa0pilar \\xa0teknologi \\xa0di Universitas Airlangga.Warna perak (silver) memiliki makna kemajuan dan harapan sesuai dengan filosofi didirikannya FTMM sebagai bentuk kontribusi untuk Indonesia yang lebih maju melalui penguasaan teknologi.Warna \\xa0pompadour\\xa0 \\xa0melambangkan\\xa0 \\xa0harmonisasi\\xa0\\xa0 dan\\xa0 \\xa0kolaborasi\\xa0\\xa0 multidisiplin\\xa0 \\xa0ilmu sebagaimana visi pendirian FTMM yang turut berperan aktif dalam pengembangan, penerapan dan kolaborasi IPTEK yang maju.Tiga buah warna yang berjajar melambangkan FTMM yang berangkat dari 3 pilar yang telah ada (health science, life science dan social science), teknologi hadir sebagai katalis kolaborasi antar pilar sehingga membawa keseimbangan bagi Universitas Airlangga sebagai institusi yang komprehensif. Logo Bentuk huruf tanpa sudut melambangkan FTMM sebagai Fakultas yang dinamis dan mampu beradaptasi terhadap berbagai tantangan.Huruf yang saling bersambung melambangkan kontinuitas FTMM dalam mengembangkan IPTEK.Warna biru dan kuning merupakan warna dasar Universitas Airlangga tempat FTMM bernaung.Gradasi warna pada logo melambangkan FTMM yang kolaboratif dengan berbagai disiplin ilmu yang ada.\\n\\nLokasi Kampus Fakultas Teknologi Maju dan Multidisiplin berlokasi di Gedung Kuliah Bersama (GKB) UNAIR Kampus C.Di gedung ini, FTMM menempati lantai Ground sebagai laboratorium pendidikan, Lantai 1 sebagai ruang administrasi akademik dan kemahasiswaan, ORMAWA, serta laboratorium pendidikan. Lantai 6 sebagai ruang kelas, lantai 8 sebagai ruang dosen dan laboratorium komputer Hig Grade & Mid Grade. Serta lantai 10 sebagai ruang pimpinan FTMM, administrasi sarana prasarana, sdm dan keuangan, serta Research Centre Nanotechnology', metadata={'source': 'test_knowledges\\\\identitas-ftmm.txt'})]"
      ]
     },
     "execution_count": 13,
     "metadata": {},
     "output_type": "execute_result"
    }
   ],
   "source": [
    "docsearch.similarity_search_by_vector(embeddings)"
   ]
  }
 ],
 "metadata": {
  "kernelspec": {
   "display_name": "Python 3",
   "language": "python",
   "name": "python3"
  },
  "language_info": {
   "codemirror_mode": {
    "name": "ipython",
    "version": 3
   },
   "file_extension": ".py",
   "mimetype": "text/x-python",
   "name": "python",
   "nbconvert_exporter": "python",
   "pygments_lexer": "ipython3",
   "version": "3.10.7"
  }
 },
 "nbformat": 4,
 "nbformat_minor": 2
}
