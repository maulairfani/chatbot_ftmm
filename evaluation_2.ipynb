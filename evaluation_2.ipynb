{
 "cells": [
  {
   "cell_type": "code",
   "execution_count": 1,
   "metadata": {},
   "outputs": [],
   "source": [
    "import pandas as pd"
   ]
  },
  {
   "cell_type": "code",
   "execution_count": 2,
   "metadata": {},
   "outputs": [],
   "source": [
    "gemini = pd.read_csv(\"data/result_gemini.csv\")\n",
    "openai = pd.read_csv(\"data/result_openai.csv\")"
   ]
  },
  {
   "cell_type": "code",
   "execution_count": 38,
   "metadata": {},
   "outputs": [
    {
     "name": "stdout",
     "output_type": "stream",
     "text": [
      "LLM Gemini Pro\n",
      "rouge1       0.2331\n",
      "rouge2       0.1219\n",
      "rougeL       0.2024\n",
      "rougeLsum    0.2024\n",
      "dtype: float64\n",
      "\n",
      "LLM GPT-3.5-Turbo\n",
      "rouge1       0.4724\n",
      "rouge2       0.3485\n",
      "rougeL       0.4334\n",
      "rougeLsum    0.4337\n",
      "dtype: float64\n"
     ]
    }
   ],
   "source": [
    "print(\"LLM Gemini Pro\")\n",
    "print(round(gemini[[\"rouge1\", \"rouge2\", \"rougeL\", \"rougeLsum\"]].mean(), 4))\n",
    "\n",
    "print(\"\\nLLM GPT-3.5-Turbo\")\n",
    "print(round(openai[[\"rouge1\", \"rouge2\", \"rougeL\", \"rougeLsum\"]].mean(), 4))"
   ]
  },
  {
   "cell_type": "code",
   "execution_count": 35,
   "metadata": {},
   "outputs": [
    {
     "name": "stdout",
     "output_type": "stream",
     "text": [
      "BLEU Score GPT-3.5-Turbo\n",
      "25.14\n",
      "\n",
      "BLEU Score Gemini Pro\n",
      "5.65\n"
     ]
    }
   ],
   "source": [
    "print(\"BLEU Score GPT-3.5-Turbo\")\n",
    "print(round(openai[\"score\"].mean(), 2))\n",
    "print()\n",
    "print(\"BLEU Score Gemini Pro\")\n",
    "print(round(gemini[\"score\"].mean(), 2))"
   ]
  }
 ],
 "metadata": {
  "kernelspec": {
   "display_name": "chatbot_ftmm",
   "language": "python",
   "name": "python3"
  },
  "language_info": {
   "codemirror_mode": {
    "name": "ipython",
    "version": 3
   },
   "file_extension": ".py",
   "mimetype": "text/x-python",
   "name": "python",
   "nbconvert_exporter": "python",
   "pygments_lexer": "ipython3",
   "version": "3.10.7"
  }
 },
 "nbformat": 4,
 "nbformat_minor": 2
}
