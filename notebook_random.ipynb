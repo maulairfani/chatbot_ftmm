{
 "cells": [
  {
   "cell_type": "code",
   "execution_count": 15,
   "metadata": {},
   "outputs": [],
   "source": [
    "import pandas as pd\n",
    "import os"
   ]
  },
  {
   "cell_type": "code",
   "execution_count": 57,
   "metadata": {},
   "outputs": [],
   "source": [
    "files = os.listdir(\"knowledges\")\n",
    "ids = [i for i in range(len(files))]\n",
    "\n",
    "corpus = pd.DataFrame({\n",
    "    \"id\": ids,\n",
    "    \"file_name\": files\n",
    "})"
   ]
  },
  {
   "cell_type": "code",
   "execution_count": 58,
   "metadata": {},
   "outputs": [],
   "source": [
    "corpus.to_csv(\"corpus.csv\", index=False)"
   ]
  },
  {
   "cell_type": "code",
   "execution_count": 59,
   "metadata": {},
   "outputs": [
    {
     "data": {
      "text/html": [
       "<div>\n",
       "<style scoped>\n",
       "    .dataframe tbody tr th:only-of-type {\n",
       "        vertical-align: middle;\n",
       "    }\n",
       "\n",
       "    .dataframe tbody tr th {\n",
       "        vertical-align: top;\n",
       "    }\n",
       "\n",
       "    .dataframe thead th {\n",
       "        text-align: right;\n",
       "    }\n",
       "</style>\n",
       "<table border=\"1\" class=\"dataframe\">\n",
       "  <thead>\n",
       "    <tr style=\"text-align: right;\">\n",
       "      <th></th>\n",
       "      <th>id</th>\n",
       "      <th>tag</th>\n",
       "      <th>query</th>\n",
       "      <th>relevant_docs</th>\n",
       "      <th>title_1</th>\n",
       "      <th>title_2</th>\n",
       "    </tr>\n",
       "  </thead>\n",
       "  <tbody>\n",
       "    <tr>\n",
       "      <th>0</th>\n",
       "      <td>0</td>\n",
       "      <td>Pengenalan FTMM</td>\n",
       "      <td>FTMM adalah</td>\n",
       "      <td>[85, 70]</td>\n",
       "      <td>Sejarah FTMM.txt</td>\n",
       "      <td>Prestasi Mahasiswa.txt</td>\n",
       "    </tr>\n",
       "    <tr>\n",
       "      <th>1</th>\n",
       "      <td>1</td>\n",
       "      <td>Lokasi FTMM</td>\n",
       "      <td>Halo FTMM ada dimana?</td>\n",
       "      <td>[85, 104]</td>\n",
       "      <td>Sejarah FTMM.txt</td>\n",
       "      <td>FTMM Overview.txt</td>\n",
       "    </tr>\n",
       "    <tr>\n",
       "      <th>2</th>\n",
       "      <td>2</td>\n",
       "      <td>Informasi Kontak</td>\n",
       "      <td>Apakah FTMM mempunyai akun media sosial?</td>\n",
       "      <td>[74]</td>\n",
       "      <td>QnA.txt</td>\n",
       "      <td>NaN</td>\n",
       "    </tr>\n",
       "    <tr>\n",
       "      <th>3</th>\n",
       "      <td>3</td>\n",
       "      <td>Sejarah FTMM</td>\n",
       "      <td>Berapa jumlah mahasiswa FTMM?</td>\n",
       "      <td>[85]</td>\n",
       "      <td>Sejarah FTMM.txt</td>\n",
       "      <td>NaN</td>\n",
       "    </tr>\n",
       "    <tr>\n",
       "      <th>4</th>\n",
       "      <td>4</td>\n",
       "      <td>Prodi FTMM</td>\n",
       "      <td>Apakah ada jurusan yang hanya ada satu di Indo...</td>\n",
       "      <td>[86,104]</td>\n",
       "      <td>Selayang Pandang FTMM.txt</td>\n",
       "      <td>FTMM Overview.txt</td>\n",
       "    </tr>\n",
       "  </tbody>\n",
       "</table>\n",
       "</div>"
      ],
      "text/plain": [
       "   id               tag                                              query  \\\n",
       "0   0   Pengenalan FTMM                                        FTMM adalah   \n",
       "1   1       Lokasi FTMM                              Halo FTMM ada dimana?   \n",
       "2   2  Informasi Kontak           Apakah FTMM mempunyai akun media sosial?   \n",
       "3   3      Sejarah FTMM                      Berapa jumlah mahasiswa FTMM?   \n",
       "4   4        Prodi FTMM  Apakah ada jurusan yang hanya ada satu di Indo...   \n",
       "\n",
       "  relevant_docs                    title_1                 title_2  \n",
       "0      [85, 70]           Sejarah FTMM.txt  Prestasi Mahasiswa.txt  \n",
       "1     [85, 104]           Sejarah FTMM.txt       FTMM Overview.txt  \n",
       "2          [74]                    QnA.txt                     NaN  \n",
       "3          [85]           Sejarah FTMM.txt                     NaN  \n",
       "4      [86,104]  Selayang Pandang FTMM.txt       FTMM Overview.txt  "
      ]
     },
     "execution_count": 59,
     "metadata": {},
     "output_type": "execute_result"
    }
   ],
   "source": [
    "data = pd.read_csv(\"relevant_docs.csv\").drop(\"Unnamed: 0\", axis=1).iloc[:, :-2]\n",
    "data.head()"
   ]
  },
  {
   "cell_type": "code",
   "execution_count": 60,
   "metadata": {},
   "outputs": [
    {
     "data": {
      "text/plain": [
       "id                                                              22\n",
       "tag                                                    Pendaftaran\n",
       "query            Bagaimana mendaftar untuk menjadi mahasiswa FTMM?\n",
       "relevant_docs                                               [61,2]\n",
       "title_1                                  pendaftaran-mahasiswa.txt\n",
       "title_2                 Alur Pendaftaran Online Mahasiswa Baru.txt\n",
       "Name: 22, dtype: object"
      ]
     },
     "execution_count": 60,
     "metadata": {},
     "output_type": "execute_result"
    }
   ],
   "source": [
    "data.iloc[22]"
   ]
  },
  {
   "cell_type": "code",
   "execution_count": 64,
   "metadata": {},
   "outputs": [],
   "source": [
    "relevant_docs_list = list()\n",
    "for i in range(len(data)):\n",
    "    title_1 = data[\"title_1\"].iloc[i]\n",
    "    title_2 = data[\"title_2\"].iloc[i]\n",
    "\n",
    "    id_title_1 = corpus[corpus[\"file_name\"] == title_1][\"id\"].values[0]\n",
    "    if type(title_2) != type(0.0):\n",
    "        id_title_2 = corpus[corpus[\"file_name\"] == title_2][\"id\"].values[0]\n",
    "        relevant_docs = [id_title_1, id_title_2]\n",
    "    else:\n",
    "        relevant_docs = [id_title_1]\n",
    "    relevant_docs_list.append(relevant_docs)"
   ]
  },
  {
   "cell_type": "code",
   "execution_count": 68,
   "metadata": {},
   "outputs": [],
   "source": [
    "data[\"relevant_docs\"] = relevant_docs_list"
   ]
  },
  {
   "cell_type": "code",
   "execution_count": 70,
   "metadata": {},
   "outputs": [],
   "source": [
    "data.to_csv(\"relevant_docs.csv\", index=False)"
   ]
  }
 ],
 "metadata": {
  "kernelspec": {
   "display_name": "chatbot_ftmm",
   "language": "python",
   "name": "python3"
  },
  "language_info": {
   "codemirror_mode": {
    "name": "ipython",
    "version": 3
   },
   "file_extension": ".py",
   "mimetype": "text/x-python",
   "name": "python",
   "nbconvert_exporter": "python",
   "pygments_lexer": "ipython3",
   "version": "3.10.7"
  }
 },
 "nbformat": 4,
 "nbformat_minor": 2
}
